{
 "cells": [
  {
   "cell_type": "code",
   "execution_count": 8,
   "id": "fcd47ddc-0037-43d8-95be-cc57e05259ff",
   "metadata": {},
   "outputs": [],
   "source": [
    "import os\n",
    "import torch\n",
    "import torch.nn as nn\n",
    "import torchvision.transforms as transforms\n",
    "from torchvision.datasets import ImageFolder\n",
    "from torch.utils.data import DataLoader, random_split\n",
    "from torchvision import models"
   ]
  },
  {
   "cell_type": "code",
   "execution_count": 5,
   "id": "14736d0b-8bb9-4cfc-ae75-9a6298a2bd4b",
   "metadata": {},
   "outputs": [],
   "source": [
    "import os\n",
    "import shutil\n",
    "\n",
    "# Original paths\n",
    "src_fire = r'C:\\Users\\ahmed\\Documents\\Python Scripts\\Realtime Flame Detection (CNN)\\fire_dataset\\fire_images'\n",
    "src_non_fire = r'C:\\Users\\ahmed\\Documents\\Python Scripts\\Realtime Flame Detection (CNN)\\fire_dataset\\non_fire_images'\n",
    "\n",
    "# New structure\n",
    "dst_base = 'fire_dataset_cleaned'\n",
    "os.makedirs(dst_base, exist_ok=True)\n",
    "\n",
    "for category, src in [('fire', src_fire), ('non_fire', src_non_fire)]:\n",
    "    dst = os.path.join(dst_base, category)\n",
    "    os.makedirs(dst, exist_ok=True)\n",
    "    for file in os.listdir(src):\n",
    "        shutil.copy(os.path.join(src, file), os.path.join(dst, file))\n"
   ]
  },
  {
   "cell_type": "code",
   "execution_count": 6,
   "id": "dc518740-eee0-43be-9494-6b7f08810348",
   "metadata": {},
   "outputs": [],
   "source": [
    "# Config\n",
    "data_dir = 'fire_dataset_cleaned'\n",
    "model_save_path = 'flame_detector.pth'\n",
    "batch_size = 32\n",
    "num_epochs = 5\n",
    "learning_rate = 0.001\n",
    "img_size = 224"
   ]
  },
  {
   "cell_type": "code",
   "execution_count": 9,
   "id": "456b934b-1181-4bf1-a436-d329367ca250",
   "metadata": {},
   "outputs": [],
   "source": [
    "transform = transforms.Compose([\n",
    "    transforms.Resize((img_size, img_size)),\n",
    "    transforms.ToTensor(),\n",
    "    transforms.Normalize([0.485, 0.456, 0.406],  # mean\n",
    "                         [0.229, 0.224, 0.225])  # std\n",
    "])\n",
    "\n",
    "\n",
    "dataset = ImageFolder(data_dir, transform=transform)\n",
    "\n",
    "\n",
    "train_size = int(0.8 * len(dataset))\n",
    "val_size = len(dataset) - train_size\n",
    "train_ds, val_ds = random_split(dataset, [train_size, val_size])\n",
    "\n",
    "train_loader = DataLoader(train_ds, batch_size=batch_size, shuffle=True)\n",
    "val_loader = DataLoader(val_ds, batch_size=batch_size, shuffle=False)"
   ]
  },
  {
   "cell_type": "code",
   "execution_count": 10,
   "id": "6344890a-de24-4f27-a344-9316d25afc6e",
   "metadata": {},
   "outputs": [
    {
     "name": "stderr",
     "output_type": "stream",
     "text": [
      "C:\\Users\\ahmed\\anaconda3\\envs\\neuralnetwork\\lib\\site-packages\\torchvision\\models\\_utils.py:208: UserWarning: The parameter 'pretrained' is deprecated since 0.13 and may be removed in the future, please use 'weights' instead.\n",
      "  warnings.warn(\n",
      "C:\\Users\\ahmed\\anaconda3\\envs\\neuralnetwork\\lib\\site-packages\\torchvision\\models\\_utils.py:223: UserWarning: Arguments other than a weight enum or `None` for 'weights' are deprecated since 0.13 and may be removed in the future. The current behavior is equivalent to passing `weights=MobileNet_V2_Weights.IMAGENET1K_V1`. You can also use `weights=MobileNet_V2_Weights.DEFAULT` to get the most up-to-date weights.\n",
      "  warnings.warn(msg)\n",
      "Downloading: \"https://download.pytorch.org/models/mobilenet_v2-b0353104.pth\" to C:\\Users\\ahmed/.cache\\torch\\hub\\checkpoints\\mobilenet_v2-b0353104.pth\n",
      "100%|██████████| 13.6M/13.6M [00:00<00:00, 25.0MB/s]\n"
     ]
    }
   ],
   "source": [
    "device = torch.device(\"cuda\" if torch.cuda.is_available() else \"cpu\")\n",
    "model = models.mobilenet_v2(pretrained=True)\n",
    "model.classifier[1] = nn.Linear(model.last_channel, 2)  # Fire / No fire\n",
    "model = model.to(device)"
   ]
  },
  {
   "cell_type": "code",
   "execution_count": 11,
   "id": "e3bfacdd-59ab-43e4-bd1d-133ef45a3bd0",
   "metadata": {},
   "outputs": [],
   "source": [
    "criterion = nn.CrossEntropyLoss()\n",
    "optimizer = torch.optim.Adam(model.parameters(), lr=learning_rate)"
   ]
  },
  {
   "cell_type": "code",
   "execution_count": 12,
   "id": "fcee5cfa-943d-4269-b3f5-9428a3e20458",
   "metadata": {},
   "outputs": [
    {
     "name": "stdout",
     "output_type": "stream",
     "text": [
      "[Epoch 1] Loss: 4.5220, Accuracy: 0.9274\n",
      "[Epoch 2] Loss: 2.3903, Accuracy: 0.9687\n",
      "[Epoch 3] Loss: 1.2208, Accuracy: 0.9825\n",
      "[Epoch 4] Loss: 1.6888, Accuracy: 0.9712\n",
      "[Epoch 5] Loss: 0.6529, Accuracy: 0.9912\n"
     ]
    }
   ],
   "source": [
    "for epoch in range(num_epochs):\n",
    "    model.train()\n",
    "    running_loss = 0.0\n",
    "    correct = 0\n",
    "\n",
    "    for images, labels in train_loader:\n",
    "        images, labels = images.to(device), labels.to(device)\n",
    "\n",
    "        optimizer.zero_grad()\n",
    "        outputs = model(images)\n",
    "        loss = criterion(outputs, labels)\n",
    "        loss.backward()\n",
    "        optimizer.step()\n",
    "\n",
    "        running_loss += loss.item()\n",
    "        correct += (outputs.argmax(1) == labels).sum().item()\n",
    "\n",
    "    acc = correct / len(train_ds)\n",
    "    print(f\"[Epoch {epoch+1}] Loss: {running_loss:.4f}, Accuracy: {acc:.4f}\")"
   ]
  },
  {
   "cell_type": "code",
   "execution_count": 13,
   "id": "3baca9b4-1f3b-4023-8175-9820123db730",
   "metadata": {},
   "outputs": [],
   "source": [
    "torch.save(model.state_dict(), model_save_path)"
   ]
  }
 ],
 "metadata": {
  "kernelspec": {
   "display_name": "Python 3 (ipykernel)",
   "language": "python",
   "name": "python3"
  },
  "language_info": {
   "codemirror_mode": {
    "name": "ipython",
    "version": 3
   },
   "file_extension": ".py",
   "mimetype": "text/x-python",
   "name": "python",
   "nbconvert_exporter": "python",
   "pygments_lexer": "ipython3",
   "version": "3.9.18"
  }
 },
 "nbformat": 4,
 "nbformat_minor": 5
}
